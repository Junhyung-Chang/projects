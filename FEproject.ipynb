{
  "nbformat": 4,
  "nbformat_minor": 0,
  "metadata": {
    "colab": {
      "name": "FEproject",
      "provenance": [],
      "collapsed_sections": []
    },
    "kernelspec": {
      "name": "python3",
      "display_name": "Python 3"
    }
  },
  "cells": [
    {
      "cell_type": "markdown",
      "metadata": {
        "id": "Uh_-iC8JmGp5"
      },
      "source": [
        "# **Chapter 1. Data shape 1 -> 1**"
      ]
    },
    {
      "cell_type": "code",
      "metadata": {
        "id": "SIkERt6iknSe"
      },
      "source": [
        "import tensorflow as tf\n",
        "import numpy as np\n",
        "\n",
        "#stage1: 1 input(strike price) & 1 output(option price)\n",
        "def call_option(S, u, d, r, K):\n",
        "  prob = (r-d)/(u-d)\n",
        "  value = 1/r * (max(u*S - K, 0) * prob + max(d*S - K, 0) * (1-prob))\n",
        "  return value\n",
        "\n",
        "#Fix parameters except K: (S, u, d, r) = (100, 1.1, 0.9, 1.05) \n",
        "#Make toy training dataset (one-step binomial pricing formula)\n",
        "strike = []\n",
        "option = []\n",
        "for K in range(70, 160, 5):\n",
        "  strike.append(K)\n",
        "  option.append(call_option(100, 1.1, 0.9, 1.05, K))\n",
        "\n",
        "#our desired first training dataset\n",
        "strike_price = np.array(strike)\n",
        "option_price = np.array(option)\n",
        "\n"
      ],
      "execution_count": null,
      "outputs": []
    },
    {
      "cell_type": "code",
      "metadata": {
        "id": "nT7ILeLZ06mF",
        "colab": {
          "base_uri": "https://localhost:8080/",
          "height": 128
        },
        "outputId": "4c0e443d-7f2c-4501-fa18-561fdf8d0d13"
      },
      "source": [
        "print(strike_price)\n",
        "print(option_price)"
      ],
      "execution_count": null,
      "outputs": [
        {
          "output_type": "stream",
          "text": [
            "[ 70  75  80  85  90  95 100 105 110 115 120 125 130 135 140 145 150 155]\n",
            "[3.33333333e+01 2.85714286e+01 2.38095238e+01 1.90476190e+01\n",
            " 1.42857143e+01 1.07142857e+01 7.14285714e+00 3.57142857e+00\n",
            " 1.01506105e-14 0.00000000e+00 0.00000000e+00 0.00000000e+00\n",
            " 0.00000000e+00 0.00000000e+00 0.00000000e+00 0.00000000e+00\n",
            " 0.00000000e+00 0.00000000e+00]\n"
          ],
          "name": "stdout"
        }
      ]
    },
    {
      "cell_type": "code",
      "metadata": {
        "id": "YbTh_NgS4apu"
      },
      "source": [
        "#make a testing dataset for our first model\n",
        "strike_t = []\n",
        "option_t = []\n",
        "for K in range(82, 122, 5):\n",
        "  strike_t.append(K)\n",
        "  option_t.append(call_option(100, 1.1, 0.9, 1.05, K))\n",
        "\n",
        "test_strike_price = np.array(strike_t)\n",
        "test_option_price = np.array(option_t)"
      ],
      "execution_count": null,
      "outputs": []
    },
    {
      "cell_type": "code",
      "metadata": {
        "id": "cQWo38T65LYS",
        "colab": {
          "base_uri": "https://localhost:8080/",
          "height": 73
        },
        "outputId": "1588b73c-f40a-4b58-e66d-d0387fd814f9"
      },
      "source": [
        "print(test_strike_price)\n",
        "print(test_option_price)"
      ],
      "execution_count": null,
      "outputs": [
        {
          "output_type": "stream",
          "text": [
            "[ 82  87  92  97 102 107 112 117]\n",
            "[21.9047619  17.14285714 12.85714286  9.28571429  5.71428571  2.14285714\n",
            "  0.          0.        ]\n"
          ],
          "name": "stdout"
        }
      ]
    },
    {
      "cell_type": "code",
      "metadata": {
        "id": "Jv4oHHfDpGZm",
        "colab": {
          "base_uri": "https://localhost:8080/",
          "height": 287
        },
        "outputId": "1e9c97bf-f256-4ea2-dd37-ba4905c66cc3"
      },
      "source": [
        "#check how our training set looks\n",
        "import matplotlib.pyplot as plt\n",
        "\n",
        "plt.plot(strike_price, option_price)"
      ],
      "execution_count": null,
      "outputs": [
        {
          "output_type": "execute_result",
          "data": {
            "text/plain": [
              "[<matplotlib.lines.Line2D at 0x7f38bcb7a438>]"
            ]
          },
          "metadata": {
            "tags": []
          },
          "execution_count": 110
        },
        {
          "output_type": "display_data",
          "data": {
            "image/png": "[encoded data removed]",
            "text/plain": [
              "<Figure size 432x288 with 1 Axes>"
            ]
          },
          "metadata": {
            "tags": [],
            "needs_background": "light"
          }
        }
      ]
    },
    {
      "cell_type": "code",
      "metadata": {
        "id": "BVqn6pa_xBqq",
        "colab": {
          "base_uri": "https://localhost:8080/",
          "height": 36
        },
        "outputId": "650db1b4-7643-461b-d90e-50fa03e6d83c"
      },
      "source": [
        "#A simple neural network with 2 layers, activation='relu'\n",
        "first_model = tf.keras.Sequential([\n",
        "  tf.keras.layers.Dense(units=2, input_shape=[1], activation='relu'),\n",
        "  tf.keras.layers.Dense(units=1)\n",
        "  ])\n",
        "\n",
        "#set complier\n",
        "first_model.compile(loss='mean_squared_error',\n",
        "              optimizer=tf.keras.optimizers.Adam(0.1))\n",
        "\n",
        "#Training the model\n",
        "history = first_model.fit(strike_price, option_price, epochs=1000, verbose=False)\n",
        "print(\"Finished training the model\")"
      ],
      "execution_count": null,
      "outputs": [
        {
          "output_type": "stream",
          "text": [
            "Finished training the model\n"
          ],
          "name": "stdout"
        }
      ]
    },
    {
      "cell_type": "code",
      "metadata": {
        "id": "BNHRgEsh9wvQ",
        "colab": {
          "base_uri": "https://localhost:8080/",
          "height": 299
        },
        "outputId": "435c5c8f-9c57-4afd-820d-9272a8e6e0c1"
      },
      "source": [
        "#Training statistics\n",
        "plt.xlabel('Epoch Number')\n",
        "plt.ylabel(\"Loss Magnitude\")\n",
        "plt.plot(history.history['loss'])"
      ],
      "execution_count": null,
      "outputs": [
        {
          "output_type": "execute_result",
          "data": {
            "text/plain": [
              "[<matplotlib.lines.Line2D at 0x7f38b84b5630>]"
            ]
          },
          "metadata": {
            "tags": []
          },
          "execution_count": 170
        },
        {
          "output_type": "display_data",
          "data": {
            "image/png": "[encoded data removed]",
            "text/plain": [
              "<Figure size 432x288 with 1 Axes>"
            ]
          },
          "metadata": {
            "tags": [],
            "needs_background": "light"
          }
        }
      ]
    },
    {
      "cell_type": "code",
      "metadata": {
        "id": "E7cUDLW-_4NJ",
        "colab": {
          "base_uri": "https://localhost:8080/",
          "height": 54
        },
        "outputId": "4dc1d794-1f56-440b-9129-6c253625a6d3"
      },
      "source": [
        "#evaluate our first model\n",
        "first_model.evaluate(strike_price, option_price)"
      ],
      "execution_count": null,
      "outputs": [
        {
          "output_type": "stream",
          "text": [
            "1/1 [==============================] - 0s 1ms/step - loss: 0.2062\n"
          ],
          "name": "stdout"
        },
        {
          "output_type": "execute_result",
          "data": {
            "text/plain": [
              "0.20621100068092346"
            ]
          },
          "metadata": {
            "tags": []
          },
          "execution_count": 179
        }
      ]
    },
    {
      "cell_type": "code",
      "metadata": {
        "id": "V-dyhNp268QI",
        "colab": {
          "base_uri": "https://localhost:8080/",
          "height": 240
        },
        "outputId": "6bc93ab9-8be0-47f7-808f-94fcf193623e"
      },
      "source": [
        "first_model.summary()"
      ],
      "execution_count": null,
      "outputs": [
        {
          "output_type": "stream",
          "text": [
            "Model: \"sequential_27\"\n",
            "_________________________________________________________________\n",
            "Layer (type)                 Output Shape              Param #   \n",
            "=================================================================\n",
            "dense_54 (Dense)             (None, 2)                 4         \n",
            "_________________________________________________________________\n",
            "dense_55 (Dense)             (None, 1)                 3         \n",
            "=================================================================\n",
            "Total params: 7\n",
            "Trainable params: 7\n",
            "Non-trainable params: 0\n",
            "_________________________________________________________________\n"
          ],
          "name": "stdout"
        }
      ]
    },
    {
      "cell_type": "code",
      "metadata": {
        "id": "8RjKojBU7lvO",
        "colab": {
          "base_uri": "https://localhost:8080/",
          "height": 110
        },
        "outputId": "f26a4f31-30ea-4757-f146-99b481a999a5"
      },
      "source": [
        "first_model.get_weights()"
      ],
      "execution_count": null,
      "outputs": [
        {
          "output_type": "execute_result",
          "data": {
            "text/plain": [
              "[array([[-1.1208937 , -0.20147355]], dtype=float32),\n",
              " array([ 0.      , 21.761806], dtype=float32),\n",
              " array([[0.51344776],\n",
              "        [4.2487464 ]], dtype=float32),\n",
              " array([1.6534268e-07], dtype=float32)]"
            ]
          },
          "metadata": {
            "tags": []
          },
          "execution_count": 137
        }
      ]
    },
    {
      "cell_type": "code",
      "metadata": {
        "id": "LWaWr0hQy6Wd"
      },
      "source": [
        "#use pre-made testing set to check how well the network is trained\n",
        "predict=first_model.predict(test_strike_price)"
      ],
      "execution_count": null,
      "outputs": []
    },
    {
      "cell_type": "code",
      "metadata": {
        "id": "oaDpwkM0zWhU"
      },
      "source": [
        "#this np.array shows the strike price to the model-predicted value to the actual value\n",
        "result=[]\n",
        "for i in range (0, 8):\n",
        "  result.append([test_strike_price[i], predict[i], test_option_price[i]])\n",
        "result_array=np.array(result)"
      ],
      "execution_count": null,
      "outputs": []
    },
    {
      "cell_type": "code",
      "metadata": {
        "id": "KqTToUYl7mUf",
        "colab": {
          "base_uri": "https://localhost:8080/",
          "height": 166
        },
        "outputId": "95fc3c22-7906-4fe2-92c6-8665782e5dc7"
      },
      "source": [
        "print(result_array)"
      ],
      "execution_count": null,
      "outputs": [
        {
          "output_type": "stream",
          "text": [
            "[[82 array([22.26754], dtype=float32) 21.90476190476191]\n",
            " [87 array([17.987526], dtype=float32) 17.14285714285715]\n",
            " [92 array([13.707511], dtype=float32) 12.857142857142865]\n",
            " [97 array([9.427491], dtype=float32) 9.285714285714294]\n",
            " [102 array([5.1474776], dtype=float32) 5.714285714285723]\n",
            " [107 array([0.86746806], dtype=float32) 2.1428571428571526]\n",
            " [112 array([1.0009026e-05], dtype=float32) 0.0]\n",
            " [117 array([1.0009026e-05], dtype=float32) 0.0]]\n"
          ],
          "name": "stdout"
        }
      ]
    },
    {
      "cell_type": "markdown",
      "metadata": {
        "id": "KdfWO852mQik"
      },
      "source": [
        "# **Chapter 2. Data Shape 2 -> 1**"
      ]
    },
    {
      "cell_type": "code",
      "metadata": {
        "id": "uyIHuyXB8mV9",
        "colab": {
          "base_uri": "https://localhost:8080/",
          "height": 74
        },
        "outputId": "2e577bf9-f8cd-437d-c0b9-cd0ec1f0424a"
      },
      "source": [
        "#two inputs: S, K training set\n",
        "pair=[]\n",
        "option_pair=[]\n",
        "for i in range (70, 140, 5):\n",
        "  for j in range (70, 140, 5):\n",
        "    pair.append([i,j])\n",
        "    option_pair.append(call_option(i, 1.1, 0.9, 1.05, j))\n",
        "\n",
        "print(pair)\n",
        "print(option_pair)"
      ],
      "execution_count": null,
      "outputs": [
        {
          "output_type": "stream",
          "text": [
            "[[70, 70], [70, 75], [70, 80], [70, 85], [70, 90], [70, 95], [70, 100], [70, 105], [70, 110], [70, 115], [70, 120], [70, 125], [70, 130], [70, 135], [75, 70], [75, 75], [75, 80], [75, 85], [75, 90], [75, 95], [75, 100], [75, 105], [75, 110], [75, 115], [75, 120], [75, 125], [75, 130], [75, 135], [80, 70], [80, 75], [80, 80], [80, 85], [80, 90], [80, 95], [80, 100], [80, 105], [80, 110], [80, 115], [80, 120], [80, 125], [80, 130], [80, 135], [85, 70], [85, 75], [85, 80], [85, 85], [85, 90], [85, 95], [85, 100], [85, 105], [85, 110], [85, 115], [85, 120], [85, 125], [85, 130], [85, 135], [90, 70], [90, 75], [90, 80], [90, 85], [90, 90], [90, 95], [90, 100], [90, 105], [90, 110], [90, 115], [90, 120], [90, 125], [90, 130], [90, 135], [95, 70], [95, 75], [95, 80], [95, 85], [95, 90], [95, 95], [95, 100], [95, 105], [95, 110], [95, 115], [95, 120], [95, 125], [95, 130], [95, 135], [100, 70], [100, 75], [100, 80], [100, 85], [100, 90], [100, 95], [100, 100], [100, 105], [100, 110], [100, 115], [100, 120], [100, 125], [100, 130], [100, 135], [105, 70], [105, 75], [105, 80], [105, 85], [105, 90], [105, 95], [105, 100], [105, 105], [105, 110], [105, 115], [105, 120], [105, 125], [105, 130], [105, 135], [110, 70], [110, 75], [110, 80], [110, 85], [110, 90], [110, 95], [110, 100], [110, 105], [110, 110], [110, 115], [110, 120], [110, 125], [110, 130], [110, 135], [115, 70], [115, 75], [115, 80], [115, 85], [115, 90], [115, 95], [115, 100], [115, 105], [115, 110], [115, 115], [115, 120], [115, 125], [115, 130], [115, 135], [120, 70], [120, 75], [120, 80], [120, 85], [120, 90], [120, 95], [120, 100], [120, 105], [120, 110], [120, 115], [120, 120], [120, 125], [120, 130], [120, 135], [125, 70], [125, 75], [125, 80], [125, 85], [125, 90], [125, 95], [125, 100], [125, 105], [125, 110], [125, 115], [125, 120], [125, 125], [125, 130], [125, 135], [130, 70], [130, 75], [130, 80], [130, 85], [130, 90], [130, 95], [130, 100], [130, 105], [130, 110], [130, 115], [130, 120], [130, 125], [130, 130], [130, 135], [135, 70], [135, 75], [135, 80], [135, 85], [135, 90], [135, 95], [135, 100], [135, 105], [135, 110], [135, 115], [135, 120], [135, 125], [135, 130], [135, 135]]\n",
            "[4.999999999999999, 1.4285714285714284, 0.0, 0.0, 0.0, 0.0, 0.0, 0.0, 0.0, 0.0, 0.0, 0.0, 0.0, 0.0, 8.928571428571427, 5.357142857142856, 1.7857142857142854, 0.0, 0.0, 0.0, 0.0, 0.0, 0.0, 0.0, 0.0, 0.0, 0.0, 0.0, 13.33333333333333, 9.285714285714283, 5.7142857142857135, 2.1428571428571423, 0.0, 0.0, 0.0, 0.0, 0.0, 0.0, 0.0, 0.0, 0.0, 0.0, 18.33333333333334, 13.571428571428578, 9.642857142857151, 6.07142857142858, 2.5000000000000098, 0.0, 0.0, 0.0, 0.0, 0.0, 0.0, 0.0, 0.0, 0.0, 23.33333333333334, 18.571428571428577, 13.809523809523817, 10.000000000000007, 6.428571428571438, 2.8571428571428665, 0.0, 0.0, 0.0, 0.0, 0.0, 0.0, 0.0, 0.0, 28.33333333333334, 23.571428571428577, 18.809523809523814, 14.047619047619055, 10.357142857142865, 6.7857142857142945, 3.2142857142857237, 0.0, 0.0, 0.0, 0.0, 0.0, 0.0, 0.0, 33.333333333333336, 28.571428571428577, 23.809523809523814, 19.047619047619055, 14.285714285714294, 10.714285714285722, 7.142857142857152, 3.571428571428581, 1.0150610510858573e-14, 0.0, 0.0, 0.0, 0.0, 0.0, 38.333333333333336, 33.57142857142858, 28.809523809523814, 24.047619047619055, 19.285714285714292, 14.642857142857151, 11.07142857142858, 7.500000000000009, 3.9285714285714377, 0.3571428571428672, 0.0, 0.0, 0.0, 0.0, 43.33333333333334, 38.57142857142858, 33.80952380952382, 29.04761904761905, 24.285714285714292, 19.52380952380953, 15.000000000000007, 11.428571428571436, 7.857142857142865, 4.2857142857142945, 0.7142857142857243, 0.0, 0.0, 0.0, 48.33333333333334, 43.571428571428584, 38.80952380952382, 34.04761904761905, 29.285714285714292, 24.52380952380953, 19.761904761904766, 15.357142857142863, 11.785714285714294, 8.214285714285722, 4.642857142857152, 1.0714285714285814, 0.0, 0.0, 53.33333333333333, 48.57142857142857, 43.80952380952381, 39.04761904761904, 34.285714285714285, 29.52380952380952, 24.761904761904756, 19.999999999999996, 15.71428571428571, 12.14285714285714, 8.57142857142857, 4.999999999999999, 1.4285714285714284, 0.0, 58.33333333333333, 53.57142857142857, 48.80952380952381, 44.04761904761904, 39.28571428571428, 34.52380952380952, 29.761904761904756, 24.999999999999996, 20.238095238095234, 16.071428571428566, 12.499999999999998, 8.928571428571427, 5.357142857142856, 1.7857142857142854, 63.33333333333333, 58.57142857142857, 53.8095238095238, 49.047619047619044, 44.28571428571428, 39.52380952380952, 34.76190476190475, 29.999999999999996, 25.238095238095234, 20.47619047619047, 16.428571428571423, 12.857142857142854, 9.285714285714283, 5.7142857142857135, 68.33333333333333, 63.57142857142857, 58.8095238095238, 54.047619047619044, 49.285714285714285, 44.52380952380951, 39.76190476190475, 34.99999999999999, 30.238095238095234, 25.47619047619047, 20.714285714285708, 16.78571428571428, 13.214285714285712, 9.64285714285714]\n"
          ],
          "name": "stdout"
        }
      ]
    },
    {
      "cell_type": "code",
      "metadata": {
        "id": "YswnAv_bGYtt",
        "colab": {
          "base_uri": "https://localhost:8080/",
          "height": 74
        },
        "outputId": "4a7080ac-fa0f-4873-a8c8-5b586ba6619c"
      },
      "source": [
        "#make testing set\n",
        "test_pair=[]\n",
        "test_option_pair=[]\n",
        "for i in range (72, 142, 5):\n",
        "  for j in range (72, 142, 5):\n",
        "    test_pair.append([i,j])\n",
        "    test_option_pair.append(call_option(i, 1.1, 0.9, 1.05, j))\n",
        "\n",
        "print(test_pair)\n",
        "print(test_option_pair)"
      ],
      "execution_count": null,
      "outputs": [
        {
          "output_type": "stream",
          "text": [
            "[[72, 72], [72, 77], [72, 82], [72, 87], [72, 92], [72, 97], [72, 102], [72, 107], [72, 112], [72, 117], [72, 122], [72, 127], [72, 132], [72, 137], [77, 72], [77, 77], [77, 82], [77, 87], [77, 92], [77, 97], [77, 102], [77, 107], [77, 112], [77, 117], [77, 122], [77, 127], [77, 132], [77, 137], [82, 72], [82, 77], [82, 82], [82, 87], [82, 92], [82, 97], [82, 102], [82, 107], [82, 112], [82, 117], [82, 122], [82, 127], [82, 132], [82, 137], [87, 72], [87, 77], [87, 82], [87, 87], [87, 92], [87, 97], [87, 102], [87, 107], [87, 112], [87, 117], [87, 122], [87, 127], [87, 132], [87, 137], [92, 72], [92, 77], [92, 82], [92, 87], [92, 92], [92, 97], [92, 102], [92, 107], [92, 112], [92, 117], [92, 122], [92, 127], [92, 132], [92, 137], [97, 72], [97, 77], [97, 82], [97, 87], [97, 92], [97, 97], [97, 102], [97, 107], [97, 112], [97, 117], [97, 122], [97, 127], [97, 132], [97, 137], [102, 72], [102, 77], [102, 82], [102, 87], [102, 92], [102, 97], [102, 102], [102, 107], [102, 112], [102, 117], [102, 122], [102, 127], [102, 132], [102, 137], [107, 72], [107, 77], [107, 82], [107, 87], [107, 92], [107, 97], [107, 102], [107, 107], [107, 112], [107, 117], [107, 122], [107, 127], [107, 132], [107, 137], [112, 72], [112, 77], [112, 82], [112, 87], [112, 92], [112, 97], [112, 102], [112, 107], [112, 112], [112, 117], [112, 122], [112, 127], [112, 132], [112, 137], [117, 72], [117, 77], [117, 82], [117, 87], [117, 92], [117, 97], [117, 102], [117, 107], [117, 112], [117, 117], [117, 122], [117, 127], [117, 132], [117, 137], [122, 72], [122, 77], [122, 82], [122, 87], [122, 92], [122, 97], [122, 102], [122, 107], [122, 112], [122, 117], [122, 122], [122, 127], [122, 132], [122, 137], [127, 72], [127, 77], [127, 82], [127, 87], [127, 92], [127, 97], [127, 102], [127, 107], [127, 112], [127, 117], [127, 122], [127, 127], [127, 132], [127, 137], [132, 72], [132, 77], [132, 82], [132, 87], [132, 92], [132, 97], [132, 102], [132, 107], [132, 112], [132, 117], [132, 122], [132, 127], [132, 132], [132, 137], [137, 72], [137, 77], [137, 82], [137, 87], [137, 92], [137, 97], [137, 102], [137, 107], [137, 112], [137, 117], [137, 122], [137, 127], [137, 132], [137, 137]]\n",
            "[5.142857142857144, 1.5714285714285732, 0.0, 0.0, 0.0, 0.0, 0.0, 0.0, 0.0, 0.0, 0.0, 0.0, 0.0, 0.0, 9.071428571428571, 5.500000000000001, 1.9285714285714302, 0.0, 0.0, 0.0, 0.0, 0.0, 0.0, 0.0, 0.0, 0.0, 0.0, 0.0, 13.428571428571427, 9.428571428571429, 5.857142857142858, 2.2857142857142874, 0.0, 0.0, 0.0, 0.0, 0.0, 0.0, 0.0, 0.0, 0.0, 0.0, 18.428571428571427, 13.666666666666666, 9.785714285714285, 6.214285714285715, 2.642857142857144, 0.0, 0.0, 0.0, 0.0, 0.0, 0.0, 0.0, 0.0, 0.0, 23.428571428571423, 18.666666666666664, 13.904761904761903, 10.142857142857142, 6.571428571428572, 3.0000000000000013, 0.0, 0.0, 0.0, 0.0, 0.0, 0.0, 0.0, 0.0, 28.428571428571427, 23.666666666666664, 18.9047619047619, 14.142857142857142, 10.5, 6.92857142857143, 3.3571428571428585, 0.0, 0.0, 0.0, 0.0, 0.0, 0.0, 0.0, 33.42857142857143, 28.666666666666668, 23.9047619047619, 19.14285714285714, 14.428571428571429, 10.857142857142858, 7.2857142857142865, 3.7142857142857157, 0.14285714285714485, 0.0, 0.0, 0.0, 0.0, 0.0, 38.42857142857143, 33.666666666666664, 28.904761904761905, 24.14285714285714, 19.38095238095238, 14.785714285714285, 11.214285714285714, 7.642857142857142, 4.071428571428572, 0.5000000000000019, 0.0, 0.0, 0.0, 0.0, 43.42857142857144, 38.66666666666667, 33.90476190476191, 29.14285714285715, 24.380952380952387, 19.619047619047628, 15.142857142857153, 11.571428571428582, 8.00000000000001, 4.4285714285714395, 0.8571428571428692, 0.0, 0.0, 0.0, 48.42857142857143, 43.66666666666667, 38.90476190476191, 34.142857142857146, 29.380952380952387, 24.619047619047628, 19.857142857142865, 15.500000000000007, 11.928571428571438, 8.357142857142867, 4.785714285714297, 1.2142857142857262, 0.0, 0.0, 53.42857142857143, 48.66666666666667, 43.90476190476191, 39.142857142857146, 34.38095238095239, 29.619047619047624, 24.857142857142865, 20.095238095238102, 15.857142857142865, 12.285714285714295, 8.714285714285724, 5.142857142857154, 1.5714285714285834, 0.0, 58.42857142857143, 53.66666666666667, 48.90476190476191, 44.142857142857146, 39.38095238095239, 34.61904761904763, 29.857142857142865, 25.095238095238102, 20.33333333333334, 16.214285714285722, 12.642857142857153, 9.071428571428582, 5.500000000000011, 1.9285714285714401, 63.42857142857143, 58.66666666666667, 53.90476190476191, 49.142857142857146, 44.38095238095239, 39.61904761904763, 34.85714285714286, 30.095238095238102, 25.33333333333334, 20.57142857142858, 16.57142857142858, 13.000000000000009, 9.428571428571438, 5.857142857142868, 68.42857142857143, 63.66666666666667, 58.90476190476191, 54.142857142857146, 49.38095238095239, 44.61904761904763, 39.85714285714286, 35.0952380952381, 30.33333333333334, 25.571428571428577, 20.809523809523817, 16.928571428571438, 13.357142857142867, 9.785714285714295]\n"
          ],
          "name": "stdout"
        }
      ]
    },
    {
      "cell_type": "code",
      "metadata": {
        "id": "KnYZgdIQH2XO",
        "colab": {
          "base_uri": "https://localhost:8080/",
          "height": 36
        },
        "outputId": "dc6fb5a0-b290-4606-e1c1-24743e568c01"
      },
      "source": [
        "#the second model is 2 inputs and 1 output\n",
        "second_model = tf.keras.Sequential([\n",
        "  tf.keras.layers.Dense(units=2, input_shape=[2], activation='relu'),\n",
        "  tf.keras.layers.Dense(units=1)\n",
        "  ])\n",
        "\n",
        "#set complier\n",
        "second_model.compile(loss='mean_squared_error',\n",
        "              optimizer=tf.keras.optimizers.Adam(0.1))\n",
        "\n",
        "#Training the model\n",
        "history_p = second_model.fit(pair, option_pair, epochs=1000, verbose=False)\n",
        "print(\"Finished training the model\")"
      ],
      "execution_count": null,
      "outputs": [
        {
          "output_type": "stream",
          "text": [
            "Finished training the model\n"
          ],
          "name": "stdout"
        }
      ]
    },
    {
      "cell_type": "code",
      "metadata": {
        "id": "CgDHcuiII79I",
        "colab": {
          "base_uri": "https://localhost:8080/",
          "height": 297
        },
        "outputId": "4cbdc543-bcf2-4719-ff47-aa35fc828ccc"
      },
      "source": [
        "#Training statistics\n",
        "plt.xlabel('Epoch Number')\n",
        "plt.ylabel(\"Loss Magnitude\")\n",
        "plt.plot(history_p.history['loss'])"
      ],
      "execution_count": null,
      "outputs": [
        {
          "output_type": "execute_result",
          "data": {
            "text/plain": [
              "[<matplotlib.lines.Line2D at 0x7f38b2f83b00>]"
            ]
          },
          "metadata": {
            "tags": []
          },
          "execution_count": 284
        },
        {
          "output_type": "display_data",
          "data": {
            "image/png": "[encoded data removed]",
            "text/plain": [
              "<Figure size 432x288 with 1 Axes>"
            ]
          },
          "metadata": {
            "tags": [],
            "needs_background": "light"
          }
        }
      ]
    },
    {
      "cell_type": "code",
      "metadata": {
        "id": "Yh7ofk_MJBcd",
        "colab": {
          "base_uri": "https://localhost:8080/",
          "height": 54
        },
        "outputId": "3100fb17-211f-4a2c-9140-f7285a344243"
      },
      "source": [
        "#evaluate second model\n",
        "second_model.evaluate(pair, option_pair)"
      ],
      "execution_count": null,
      "outputs": [
        {
          "output_type": "stream",
          "text": [
            "7/7 [==============================] - 0s 1ms/step - loss: 0.4865\n"
          ],
          "name": "stdout"
        },
        {
          "output_type": "execute_result",
          "data": {
            "text/plain": [
              "0.4864985942840576"
            ]
          },
          "metadata": {
            "tags": []
          },
          "execution_count": 202
        }
      ]
    },
    {
      "cell_type": "code",
      "metadata": {
        "id": "55Fa9QJMKH1v"
      },
      "source": [
        "#use pre-made testing set to check how well the network is trained\n",
        "predict_p=second_model.predict(test_pair)"
      ],
      "execution_count": null,
      "outputs": []
    },
    {
      "cell_type": "code",
      "metadata": {
        "id": "_chDQOILKRaX"
      },
      "source": [
        "#this np.array shows the strike price to the model-predicted value to the actual value\n",
        "result_p=[]\n",
        "for i in range (0, 196):\n",
        "  result_p.append([test_pair[i], predict_p[i], test_option_pair[i]])\n",
        "result_p_array=np.array(result_p)"
      ],
      "execution_count": null,
      "outputs": []
    },
    {
      "cell_type": "code",
      "metadata": {
        "id": "oa9449wiKfyZ"
      },
      "source": [
        "print(result_p_array)"
      ],
      "execution_count": null,
      "outputs": []
    },
    {
      "cell_type": "markdown",
      "metadata": {
        "id": "BKhMhOKElwHM"
      },
      "source": [
        "# **Chapter 3. Data shape 3 -> 2**"
      ]
    },
    {
      "cell_type": "code",
      "metadata": {
        "id": "YU6VcpJyMGS8"
      },
      "source": [
        "#Using Put-call parity to detect arbitrage chances\n",
        "#In some cases there will be oppertunities for arbitrage\n",
        "#we will fix the strike price K to 100 and rate r to 1.1\n",
        "def put_option_price(C, S, r, K):\n",
        "  put = C - S + K*(1/r)\n",
        "  return put"
      ],
      "execution_count": null,
      "outputs": []
    },
    {
      "cell_type": "code",
      "metadata": {
        "id": "ZEqs2dLUWy0f"
      },
      "source": [
        "#create training dataset in the case satisfying put-call parity\n",
        "#the first index in output tells us if there is an arbitrage oppertunity\n",
        "#the second intex in output tells us the amount of arbitrage\n",
        "triples = []\n",
        "output = []\n",
        "for i in range (5, 55, 5):\n",
        "  for j in range (80, 130, 5):\n",
        "    triples.append([i, j, put_option_price(i, j, 1.1, 100)])\n",
        "    output.append([0, 0])\n",
        "#create training set that is random\n",
        "triples_random = []\n",
        "output_random = []\n",
        "for i in range (20, 45, 5):\n",
        "  for j in range (90, 115, 5):\n",
        "    for k in range (10, 35, 5):\n",
        "      triples_random.append([i, j, k])\n",
        "      output_random.append([1, k - put_option_price(i, j, 1.1, 100)])\n",
        "\n",
        "input = triples + triples_random\n",
        "output_final = output + output_random"
      ],
      "execution_count": null,
      "outputs": []
    },
    {
      "cell_type": "code",
      "metadata": {
        "id": "49b1ahxwdg5v"
      },
      "source": [
        "input_array = np.array(input)\n",
        "output_array = np.array(output_final)\n",
        "print(input_array)\n",
        "print(output_array)"
      ],
      "execution_count": null,
      "outputs": []
    },
    {
      "cell_type": "code",
      "metadata": {
        "id": "aeP444Lhics6"
      },
      "source": [
        "#make test dataset\n",
        "test_input = []\n",
        "test_output = []\n",
        "for i in range (7, 57, 5):\n",
        "  for j in range (82, 132, 5):\n",
        "    test_input.append([i, j, put_option_price(i, j, 1.1, 100)])\n",
        "    test_output.append([0, 0])\n",
        "\n",
        "test_input_rand = []\n",
        "test_output_rand = []\n",
        "for i in range (22, 47, 5):\n",
        "  for j in range (92, 117, 5):\n",
        "    for k in range (12, 37, 5):\n",
        "      test_input_rand.append([i, j, k])\n",
        "      test_output_rand.append([1, k - put_option_price(i, j, 1.1, 100)])\n"
      ],
      "execution_count": null,
      "outputs": []
    },
    {
      "cell_type": "code",
      "metadata": {
        "id": "SLVVO6qmh9XG",
        "colab": {
          "base_uri": "https://localhost:8080/",
          "height": 36
        },
        "outputId": "0a96c946-002f-4a2e-f77e-fdf0ff369c1f"
      },
      "source": [
        "#the third model is 3 inputs and 2 outputs\n",
        "third_model = tf.keras.Sequential([\n",
        "  tf.keras.layers.Dense(units=3, input_shape=[3], activation='relu'),\n",
        "  tf.keras.layers.Dense(units=2)\n",
        "  ])\n",
        "\n",
        "#set complier\n",
        "third_model.compile(loss='mean_squared_error',\n",
        "              optimizer=tf.keras.optimizers.Adam(0.1))\n",
        "\n",
        "#Training the model\n",
        "history_q = third_model.fit(input_array, output_array, epochs=1000, verbose=False)\n",
        "print(\"Finished training the model\")"
      ],
      "execution_count": null,
      "outputs": [
        {
          "output_type": "stream",
          "text": [
            "Finished training the model\n"
          ],
          "name": "stdout"
        }
      ]
    },
    {
      "cell_type": "code",
      "metadata": {
        "id": "oQi97pMEjsUB",
        "colab": {
          "base_uri": "https://localhost:8080/",
          "height": 297
        },
        "outputId": "fcd32ec1-af3e-48ac-ba42-e07c4ff6dad5"
      },
      "source": [
        "#Training statistics\n",
        "plt.xlabel('Epoch Number')\n",
        "plt.ylabel(\"Loss Magnitude\")\n",
        "plt.plot(history_q.history['loss'])"
      ],
      "execution_count": null,
      "outputs": [
        {
          "output_type": "execute_result",
          "data": {
            "text/plain": [
              "[<matplotlib.lines.Line2D at 0x7f38b2fb7908>]"
            ]
          },
          "metadata": {
            "tags": []
          },
          "execution_count": 251
        },
        {
          "output_type": "display_data",
          "data": {
            "image/png": "[encoded data removed]",
            "text/plain": [
              "<Figure size 432x288 with 1 Axes>"
            ]
          },
          "metadata": {
            "tags": [],
            "needs_background": "light"
          }
        }
      ]
    },
    {
      "cell_type": "code",
      "metadata": {
        "id": "r-aJhPWhj4EX",
        "colab": {
          "base_uri": "https://localhost:8080/",
          "height": 54
        },
        "outputId": "b1204375-a063-4df7-e26a-6cca574088e8"
      },
      "source": [
        "#evaluate third model\n",
        "third_model.evaluate(input_array, output_array)"
      ],
      "execution_count": null,
      "outputs": [
        {
          "output_type": "stream",
          "text": [
            "8/8 [==============================] - 0s 1ms/step - loss: 0.2338\n"
          ],
          "name": "stdout"
        },
        {
          "output_type": "execute_result",
          "data": {
            "text/plain": [
              "0.2337617427110672"
            ]
          },
          "metadata": {
            "tags": []
          },
          "execution_count": 252
        }
      ]
    },
    {
      "cell_type": "code",
      "metadata": {
        "id": "itA1kF3Sj_PO"
      },
      "source": [
        "#use pre-made testing set to check how well the network is trained\n",
        "test_input_set = test_input + test_input_rand\n",
        "test_output_set = test_output + test_output_rand\n",
        "predict_r=third_model.predict(test_input_set)"
      ],
      "execution_count": null,
      "outputs": []
    },
    {
      "cell_type": "code",
      "metadata": {
        "id": "ywHCSmtCn7i8"
      },
      "source": [
        "#this np.array shows the strike price to the model-predicted value to the actual value\n",
        "result_r=[]\n",
        "for i in range (0, 225):\n",
        "  result_r.append([test_input_set[i], predict_r[i], test_output_set[i]])\n",
        "result_r_array=np.array(result_r)"
      ],
      "execution_count": null,
      "outputs": []
    },
    {
      "cell_type": "code",
      "metadata": {
        "id": "d5Ug5HkfoXT_"
      },
      "source": [
        "print(result_r_array)"
      ],
      "execution_count": null,
      "outputs": []
    }
  ]
}